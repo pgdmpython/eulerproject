{
 "cells": [
  {
   "cell_type": "code",
   "execution_count": null,
   "metadata": {
    "colab": {
     "base_uri": "https://localhost:8080/",
     "height": 52
    },
    "colab_type": "code",
    "id": "ak3_bm3WRoqE",
    "outputId": "87998870-1f64-48ad-c830-f528ebc73b00"
   },
   "outputs": [
    {
     "name": "stdout",
     "output_type": "stream",
     "text": [
      "6857\n",
      "found in 0.06063222885131836 seconds\n"
     ]
    }
   ],
   "source": [
    "# Problem 3\n",
    "\n",
    "# What is the largest prime factor of the number 600851475143 ?\n",
    "# Step 1: If the given number is even, remove all the factor 2's\n",
    "#       in order to obtain the largest odd factor. If 2 turns out \n",
    "#       to be the only prime factor of the given number then it is\n",
    "#       also trivially the largest prime factor.\n",
    "#\n",
    "# Step 2: The odd composite number obtained is further factorised by\n",
    "#       checking for factors with every number starting from 3. \n",
    "#       Every number n can have at most one prime factor greater than\n",
    "#       sqrt(n). If the factor we find, exceeds the sqrt(n) then we\n",
    "#       know that the number is prime.\n",
    "#\n",
    "# lpf - largest prime factor.\n",
    "\n",
    "\n",
    "import math \n",
    "import time\n",
    "start=time.time()\n",
    "n=600851475143\n",
    "a=[]\n",
    "while n%2==0: \n",
    "  lpf=2\n",
    "  n/=2\n",
    "\n",
    "for i in range(3, int(math.sqrt(n)) + 1, 2): \n",
    "  if n%i==0:\n",
    "    lpf=i \n",
    "    n=n/i\n",
    "if n>=i:\n",
    "  lpf=n\n",
    "print(lpf)\n",
    "end=time.time()\n",
    "print(\"found in\",end-start,\"seconds\")\n"
   ]
  },
  {
   "cell_type": "code",
   "execution_count": null,
   "metadata": {
    "colab": {
     "base_uri": "https://localhost:8080/",
     "height": 52
    },
    "colab_type": "code",
    "id": "qb3WgkYLhKjz",
    "outputId": "2f313f30-361f-4d96-82eb-564cba8aed74"
   },
   "outputs": [
    {
     "name": "stdout",
     "output_type": "stream",
     "text": [
      "104743\n",
      "found in 0.44648218154907227 seconds\n"
     ]
    }
   ],
   "source": [
    "# Problem 7\n",
    "\n",
    "# What is the 10001st prime number?\n",
    "# \n",
    "# The function isPrime calculates if a given number is prime. If first \n",
    "# calculates is the given number in even, in which case it is not a prime.\n",
    "# Then it checks for the existence of a prime factor less than sqrt(n).\n",
    "# If none exist, the number is a prime.\n",
    "#\n",
    "# Now a count variable c is initialized to 1 and the incremented every\n",
    "# time a new prime number is obtained. The limit to the count is 10001.\n",
    "\n",
    "import math \n",
    "import time\n",
    "\n",
    "start=time.time()\n",
    "n=10001\n",
    "\n",
    "def isPrime(i):\n",
    "    if i%2==0: \n",
    "        return False\n",
    "    p=3\n",
    "    while p<int(math.sqrt(i)+1):\n",
    "        if i%p==0:\n",
    "            return False\n",
    "        p=p+2\n",
    "    return True\n",
    " \n",
    "p=2\n",
    "c=1\n",
    "i=3\n",
    "while c<n:\n",
    "    if isPrime(i):\n",
    "        p=i\n",
    "        c=c+1\n",
    "    i=i+2\n",
    "end=time.time()\n",
    "print(p)\n",
    "print(\"found in\",end-start,\"seconds\")\n"
   ]
  },
  {
   "cell_type": "code",
   "execution_count": null,
   "metadata": {
    "colab": {
     "base_uri": "https://localhost:8080/",
     "height": 52
    },
    "colab_type": "code",
    "id": "N7wAhSTtkmH8",
    "outputId": "563c764d-1861-4fc0-fbb5-6207d3e5cdcc"
   },
   "outputs": [
    {
     "name": "stdout",
     "output_type": "stream",
     "text": [
      "142913828922\n",
      "found in 29.308807134628296 seconds\n"
     ]
    }
   ],
   "source": [
    "# Problem 10\n",
    "\n",
    "# This problem is only a modification of Problem 3, where the check on\n",
    "# the count has been replaced with the check of the upper limit prime\n",
    "# number. Now we also see \n",
    "\n",
    "\n",
    "import math \n",
    "import time\n",
    "\n",
    "start=time.time()\n",
    "n=2000000\n",
    "sum=2\n",
    "def isPrime(i):\n",
    "    if i%2==0: \n",
    "        return False\n",
    "    p=3\n",
    "    while p<int(math.sqrt(i)+1):\n",
    "        if i%p==0:\n",
    "            return False\n",
    "        p=p+2\n",
    "    return True\n",
    " \n",
    "p=2\n",
    "c=1\n",
    "i=3\n",
    "while i<n:\n",
    "    if isPrime(i):\n",
    "        p=i\n",
    "        c=c+1\n",
    "        sum=sum+i\n",
    "    i=i+2\n",
    "end=time.time()\n",
    "print(sum)\n",
    "print(\"found in\",end-start,\"seconds\")\n"
   ]
  },
  {
   "cell_type": "code",
   "execution_count": null,
   "metadata": {
    "colab": {
     "base_uri": "https://localhost:8080/",
     "height": 52
    },
    "colab_type": "code",
    "id": "FEmAbFmuobxT",
    "outputId": "dae47b7a-0d38-4680-da49-fd002782b50b"
   },
   "outputs": [
    {
     "name": "stdout",
     "output_type": "stream",
     "text": [
      "4613732\n",
      "found in 0.00018405914306640625 seconds\n"
     ]
    }
   ],
   "source": [
    "# Problem 2\n",
    "\n",
    "# Finding Fibonacci even sum - \n",
    "'''limit=4000000\n",
    "sum=0\n",
    "a=1\n",
    "b=1\n",
    "while b<limit:\n",
    " if b%2==0:\n",
    "      sum=sum+b\n",
    "      h=a+b\n",
    "      a=b\n",
    "      b=h\n",
    "print(sum)''' # ------> Direct but consumes a lot of time.\n",
    "\n",
    "# Since every third Fibonacci number is even, we modify the code\n",
    "# to filter out only even Fibonacci numbers and sum them alone.\n",
    "\n",
    "import time\n",
    "start=time.time()\n",
    "limit=4000000\n",
    "sum=0\n",
    "a=1\n",
    "b=1\n",
    "c=a+b\n",
    "while c<limit:\n",
    "    sum=sum+c\n",
    "    a=b+c\n",
    "    b=c+a\n",
    "    c=a+b\n",
    "end=time.time()\n",
    "print(sum)\n",
    "print(\"found in\",end-start,\"seconds\")\n"
   ]
  },
  {
   "cell_type": "code",
   "execution_count": null,
   "metadata": {
    "colab": {
     "base_uri": "https://localhost:8080/",
     "height": 52
    },
    "colab_type": "code",
    "id": "S9xHOXLXrB7X",
    "outputId": "c5f8bdef-533e-4a2b-9195-a0f1ec2d2fd3"
   },
   "outputs": [
    {
     "name": "stdout",
     "output_type": "stream",
     "text": [
      "25164150\n",
      "found in 0.00030922889709472656 seconds\n"
     ]
    }
   ],
   "source": [
    "# Problem 6\n",
    "#\n",
    "# sosq(n) - sum of squares until n\n",
    "# sqos(n) - square of sum until n\n",
    "# diff = sqos(n)-sosq(n)\n",
    "\n",
    "import time\n",
    "start=time.time()\n",
    "def sosq(n):\n",
    "  tot=0\n",
    "  i=1\n",
    "  for i in range(1,n+1):\n",
    "    sq=i**2\n",
    "    #print(\"*\",sq)\n",
    "    tot=tot+sq\n",
    "  return tot\n",
    "\n",
    "def sqos(n):\n",
    "  sum=0\n",
    "  i=1\n",
    "  for i in range(1,n+1):\n",
    "    sum=sum+i\n",
    "  sq=sum*sum\n",
    "  return sq\n",
    "\n",
    "def diff(n):\n",
    "  res=sqos(n)-sosq(n)\n",
    "  return res\n",
    "\n",
    "c=diff(100)\n",
    "end=time.time()\n",
    "print(c)\n",
    "print(\"found in\",end-start,\"seconds\")\n"
   ]
  },
  {
   "cell_type": "code",
   "execution_count": null,
   "metadata": {
    "colab": {
     "base_uri": "https://localhost:8080/",
     "height": 35
    },
    "colab_type": "code",
    "id": "bIjknWyawadJ",
    "outputId": "07a300c0-3e4e-4aba-e05a-9e17a886e83f"
   },
   "outputs": [
    {
     "data": {
      "text/plain": [
       "25"
      ]
     },
     "execution_count": 1,
     "metadata": {
      "tags": []
     },
     "output_type": "execute_result"
    }
   ],
   "source": [
    "# finding the gcd of two numbers using recursion\n",
    "\n",
    "def gcd(a,b):\n",
    "    \n",
    "    elif b>a:\n",
    "        return gcd(b,a)\n",
    "    elif a%b==0:\n",
    "        return b\n",
    "    return gcd(b,a%b) \n",
    "\n",
    "gcd(36000,25)"
   ]
  },
  {
   "cell_type": "code",
   "execution_count": null,
   "metadata": {
    "colab": {},
    "colab_type": "code",
    "id": "kVV_-wMb6YD7"
   },
   "outputs": [],
   "source": [
    "f = open('matrix81.txt','r')\n",
    "M = [[ int(num) for num in line.split(',')] for line in f]\n",
    "N = [[10000000 for x in range(len(M))]for y in range(len(M))]\n",
    "\n",
    "N[0][0] = M[0][0]\n",
    "flag = True\n",
    "count = 0\n",
    "while flag:\n",
    "    flag = False\n",
    "    count += 1\n",
    "    for i in range(len(M)):\n",
    "        for j in range(len(M)):\n",
    "            paths = []\n",
    "            if (i-1)>=0: \n",
    "                paths.append(N[i-1][j])\n",
    "            if (i+1)<len(M):\n",
    "                paths.append(N[i+1][j])\n",
    "            if (j-1)>=0:\n",
    "                paths.append(N[i][j-1])\n",
    "            if (j+1)<len(M):\n",
    "                paths.append(N[i][j+1])\n",
    "            mp = min(paths)\n",
    "            if mp+M[i][j] < N[i][j]:\n",
    "                N[i][j] = mp + M[i][j]\n",
    "                flag = True\n",
    "\n",
    "a = len(N)-1\n",
    "print ('minimum path sum is ',N[a][a])\n",
    "print('reached in ',count,'iterations')"
   ]
  }
 ],
 "metadata": {
  "colab": {
   "collapsed_sections": [],
   "name": "pyassign01.ipynb",
   "provenance": []
  },
  "kernelspec": {
   "display_name": "Python 3",
   "language": "python",
   "name": "python3"
  },
  "language_info": {
   "codemirror_mode": {
    "name": "ipython",
    "version": 3
   },
   "file_extension": ".py",
   "mimetype": "text/x-python",
   "name": "python",
   "nbconvert_exporter": "python",
   "pygments_lexer": "ipython3",
   "version": "3.7.4"
  }
 },
 "nbformat": 4,
 "nbformat_minor": 4
}
