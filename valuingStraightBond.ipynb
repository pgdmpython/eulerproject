{
 "cells": [
  {
   "cell_type": "code",
   "execution_count": 59,
   "metadata": {},
   "outputs": [
    {
     "name": "stdout",
     "output_type": "stream",
     "text": [
      "-----------------------\n",
      "term, n = 13\n",
      "---- discount rate ----\n",
      "-- 7% -- 8.5% -- 10% --\n",
      "-----------------------\n",
      "coupon rate, c = 0.0875\n",
      "  1146    1019    911   \n",
      "coupon rate, c = 0.1075\n",
      "  1313    1173    1053   \n",
      "coupon rate, c = 0.1275\n",
      "  1480    1326    1195   \n",
      "-----------------------\n",
      "term, n = 15\n",
      "---- discount rate ----\n",
      "-- 7% -- 8.5% -- 10% --\n",
      "-----------------------\n",
      "coupon rate, c = 0.0875\n",
      "  1159    1020    904   \n",
      "coupon rate, c = 0.1075\n",
      "  1341    1186    1057   \n",
      "coupon rate, c = 0.1275\n",
      "  1523    1352    1209   \n",
      "-----------------------\n",
      "term, n = 17\n",
      "---- discount rate ----\n",
      "-- 7% -- 8.5% -- 10% --\n",
      "-----------------------\n",
      "coupon rate, c = 0.0875\n",
      "  1170    1022    899   \n",
      "coupon rate, c = 0.1075\n",
      "  1366    1198    1060   \n",
      "coupon rate, c = 0.1275\n",
      "  1561    1375    1220   \n"
     ]
    }
   ],
   "source": [
    "# Program for Valuing a straight bond\n",
    "\n",
    "P = 1000                         # Principal amount = P\n",
    "coupon = [0.0875,0.1075,0.1275]  #      coupon rate = c\n",
    "discount = [0.07,0.085,0.1]      #    discount rate = r\n",
    "term = [13,15,17]                #             term = n\n",
    "# Annuity = Coupon rate * Principal;        Annuity = A\n",
    "\n",
    "for n in term:\n",
    "    print('-----------------------')\n",
    "    print('term, n =',n)\n",
    "    print('---- discount rate ----')\n",
    "    print('-- 7% -- 8.5% -- 10% --')\n",
    "    print('-----------------------')\n",
    "    for c in coupon:\n",
    "        A = c*P                \n",
    "        print('coupon rate, c =',c)\n",
    "        for r in discount:\n",
    "            PV = ((A/r)*(1-(1/(1+r)**n)))+(1000/(1+r)**n)\n",
    "            print(' ',int(PV), end = '  ')\n",
    "        print(' ')\n",
    "           "
   ]
  },
  {
   "cell_type": "code",
   "execution_count": 58,
   "metadata": {},
   "outputs": [
    {
     "name": "stdout",
     "output_type": "stream",
     "text": [
      "Given Principal, P = 1000 @ coupon rate: c = 0.0875 then A = 87.5\n",
      "For the term: n = 13 @ discount rate, r = 0.07 the PV = 1146\n",
      "For the term: n = 13 @ discount rate, r = 0.085 the PV = 1019\n",
      "For the term: n = 13 @ discount rate, r = 0.1 the PV = 911\n",
      "For the term: n = 15 @ discount rate, r = 0.07 the PV = 1159\n",
      "For the term: n = 15 @ discount rate, r = 0.085 the PV = 1020\n",
      "For the term: n = 15 @ discount rate, r = 0.1 the PV = 904\n",
      "For the term: n = 17 @ discount rate, r = 0.07 the PV = 1170\n",
      "For the term: n = 17 @ discount rate, r = 0.085 the PV = 1022\n",
      "For the term: n = 17 @ discount rate, r = 0.1 the PV = 899\n",
      "Given Principal, P = 1000 @ coupon rate: c = 0.1075 then A = 107.5\n",
      "For the term: n = 13 @ discount rate, r = 0.07 the PV = 1313\n",
      "For the term: n = 13 @ discount rate, r = 0.085 the PV = 1173\n",
      "For the term: n = 13 @ discount rate, r = 0.1 the PV = 1053\n",
      "For the term: n = 15 @ discount rate, r = 0.07 the PV = 1341\n",
      "For the term: n = 15 @ discount rate, r = 0.085 the PV = 1186\n",
      "For the term: n = 15 @ discount rate, r = 0.1 the PV = 1057\n",
      "For the term: n = 17 @ discount rate, r = 0.07 the PV = 1366\n",
      "For the term: n = 17 @ discount rate, r = 0.085 the PV = 1198\n",
      "For the term: n = 17 @ discount rate, r = 0.1 the PV = 1060\n",
      "Given Principal, P = 1000 @ coupon rate: c = 0.1275 then A = 127.5\n",
      "For the term: n = 13 @ discount rate, r = 0.07 the PV = 1480\n",
      "For the term: n = 13 @ discount rate, r = 0.085 the PV = 1326\n",
      "For the term: n = 13 @ discount rate, r = 0.1 the PV = 1195\n",
      "For the term: n = 15 @ discount rate, r = 0.07 the PV = 1523\n",
      "For the term: n = 15 @ discount rate, r = 0.085 the PV = 1352\n",
      "For the term: n = 15 @ discount rate, r = 0.1 the PV = 1209\n",
      "For the term: n = 17 @ discount rate, r = 0.07 the PV = 1561\n",
      "For the term: n = 17 @ discount rate, r = 0.085 the PV = 1375\n",
      "For the term: n = 17 @ discount rate, r = 0.1 the PV = 1220\n"
     ]
    }
   ],
   "source": [
    "\n",
    "P = 1000  \n",
    "coupon = [0.0875,0.1075,0.1275]\n",
    "discount = [0.07,0.085,0.1]\n",
    "term = [13,15,17]\n",
    "A = c*P\n",
    "for c in coupon:\n",
    "    A = c*P\n",
    "    print('Given Principal, P =',P,'@ coupon rate: c =',c,'then A =',A)\n",
    "    for n in term:\n",
    "        for r in discount:\n",
    "            PV = ((A/r)*(1-(1/(1+r)**n)))+(1000/(1+r)**n)\n",
    "            print('For the term: n =',n,'@ discount rate, r =',r,'the PV =',int(PV))\n"
   ]
  },
  {
   "cell_type": "code",
   "execution_count": null,
   "metadata": {},
   "outputs": [],
   "source": []
  }
 ],
 "metadata": {
  "kernelspec": {
   "display_name": "Python 3",
   "language": "python",
   "name": "python3"
  },
  "language_info": {
   "codemirror_mode": {
    "name": "ipython",
    "version": 3
   },
   "file_extension": ".py",
   "mimetype": "text/x-python",
   "name": "python",
   "nbconvert_exporter": "python",
   "pygments_lexer": "ipython3",
   "version": "3.7.4"
  }
 },
 "nbformat": 4,
 "nbformat_minor": 4
}
